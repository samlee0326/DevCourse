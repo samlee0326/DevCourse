{
 "cells": [
  {
   "cell_type": "markdown",
   "id": "192778f5-b6a0-458f-9d28-2ecd531975a1",
   "metadata": {},
   "source": [
    "## 3-3. Wait and Call\n",
    "\n",
    "- Wait을 이용해서 동적 웹 사이트를 성공적으로 스크래핑해봅시다."
   ]
  },
  {
   "cell_type": "markdown",
   "id": "e0a274aa-bd9b-4bc6-b4e9-05b6f2b2ea18",
   "metadata": {},
   "source": [
    "### Implicit / Explicit Wait\n",
    "\n",
    "Selenium은 동적 웹 사이트에 대한 지원을 진행하기 위해 **명시적 기다림(Explicit Wait)** 과 **암묵적 기다림(Implicit Wait)** 을 지원합니다.\n",
    "\n",
    "- Explicit Wait: 다 로딩이 될 때까지 **지정한 시간** 동안 기다림 (e.g. 다 로딩이 될 때까지 5초동안 기다려!)\n",
    "- Implicit Wait: **특정 요소에 대한 제약**을 통한 기다림 (e.g. 이 태그를 가져올 수 있을 때까지 기다려!)"
   ]
  },
  {
   "cell_type": "markdown",
   "id": "21cda704-06c6-4de4-83a7-f77fbeec5728",
   "metadata": {},
   "source": [
    "### Target: IndieStreet 이벤트 스크래핑\n",
    "\n",
    "다음 사이트에 있는 행사의 이름들을 스크래핑 해봅시다 : https://indistreet.com/live?sortOption=startDate%3AASC \n",
    "\n",
    "해당 웹 페이지는 공연 리스트가 담긴 웹 페이지입니다."
   ]
  },
  {
   "cell_type": "code",
   "execution_count": 6,
   "id": "e1e6514c",
   "metadata": {},
   "outputs": [],
   "source": [
    "# 스크래핑에 필요한 라이브러리를 불러와봅시다.\n",
    "\n",
    "from selenium import webdriver\n",
    "from selenium.webdriver.chrome.service import Service\n",
    "from selenium.webdriver.common.by import By\n",
    "from webdriver_manager.chrome import ChromeDriverManager\n",
    "from selenium.webdriver.support import expected_conditions as EC\n",
    "from selenium.webdriver.support.ui import WebDriverWait"
   ]
  },
  {
   "cell_type": "markdown",
   "id": "f9726baf-03b4-4601-bfa2-2f54218058e1",
   "metadata": {},
   "source": [
    "### XPath?\n",
    "\n",
    "위 사이트를 확인해보니 class 이름이 조금 특이했습니다.  \n",
    "이는 스크래핑을 방지할 목적으로 랜덤하게 class 이름을 생성하기 때문인데요,\n",
    "\n",
    "이러한 경우에서 쓸 수 있는 방법이 여러가지가 있는데,  \n",
    "그 중 한가지 방법인, **위치**를 활용한 방법을 알아보도록 하겠습니다.\n",
    "\n",
    "`XPath`는 XML, HTML 문서 등의 요소의 위치를 경로로 표현하는 것을 의미합니다.  \n",
    "마치 `데스크탑/폴더1/폴더2/음악.mp3`와 같이 말이죠!\n",
    "\n",
    "이를 적용해서 데이터를 온전히 가져와봅시다.\n",
    "\n",
    "Hint: 저희가 원하는 요소의 XPath는 `//*[@id=\"__next\"]/div/main/div[2]/div/div[4]/div[1]/div[1]/div/a/div[2]/p[1]` 입니다."
   ]
  },
  {
   "cell_type": "code",
   "execution_count": 4,
   "id": "8bdbf061-8236-4008-b75c-449458718736",
   "metadata": {},
   "outputs": [
    {
     "ename": "NoSuchElementException",
     "evalue": "Message: no such element: Unable to locate element: {\"method\":\"xpath\",\"selector\":\"//*[@id=\"__next\"]/div/main/div[2]/div/div[4]/div[1]/div[1]/div/a/div[2]/p[1]\"}\n  (Session info: chrome=131.0.6778.86)\nStacktrace:\n\tGetHandleVerifier [0x003533E3+25059]\n\t(No symbol) [0x002DCDE4]\n\t(No symbol) [0x001BBEC3]\n\t(No symbol) [0x001FFD86]\n\t(No symbol) [0x001FFFCB]\n\t(No symbol) [0x0023D952]\n\t(No symbol) [0x00221F44]\n\t(No symbol) [0x0023B51E]\n\t(No symbol) [0x00221C96]\n\t(No symbol) [0x001F3FAC]\n\t(No symbol) [0x001F4F3D]\n\tGetHandleVerifier [0x00645543+3113795]\n\tGetHandleVerifier [0x0065A20A+3198986]\n\tGetHandleVerifier [0x006529E2+3168226]\n\tGetHandleVerifier [0x003F3250+680016]\n\t(No symbol) [0x002E572D]\n\t(No symbol) [0x002E29D8]\n\t(No symbol) [0x002E2B75]\n\t(No symbol) [0x002D57D0]\n\tBaseThreadInitThunk [0x7607FCC9+25]\n\tRtlGetAppContainerNamedObjectPath [0x776D809E+286]\n\tRtlGetAppContainerNamedObjectPath [0x776D806E+238]\n",
     "output_type": "error",
     "traceback": [
      "\u001b[1;31m---------------------------------------------------------------------------\u001b[0m",
      "\u001b[1;31mNoSuchElementException\u001b[0m                    Traceback (most recent call last)",
      "\u001b[1;32m<ipython-input-4-3111382aeb9f>\u001b[0m in \u001b[0;36m<module>\u001b[1;34m\u001b[0m\n\u001b[0;32m      3\u001b[0m \u001b[0mdriver\u001b[0m \u001b[1;33m=\u001b[0m \u001b[0mwebdriver\u001b[0m\u001b[1;33m.\u001b[0m\u001b[0mChrome\u001b[0m\u001b[1;33m(\u001b[0m\u001b[0mservice\u001b[0m\u001b[1;33m=\u001b[0m\u001b[0mService\u001b[0m\u001b[1;33m(\u001b[0m\u001b[0mChromeDriverManager\u001b[0m\u001b[1;33m(\u001b[0m\u001b[1;33m)\u001b[0m\u001b[1;33m.\u001b[0m\u001b[0minstall\u001b[0m\u001b[1;33m(\u001b[0m\u001b[1;33m)\u001b[0m\u001b[1;33m)\u001b[0m\u001b[1;33m)\u001b[0m\u001b[1;33m\u001b[0m\u001b[1;33m\u001b[0m\u001b[0m\n\u001b[0;32m      4\u001b[0m \u001b[0mdriver\u001b[0m\u001b[1;33m.\u001b[0m\u001b[0mget\u001b[0m\u001b[1;33m(\u001b[0m\u001b[1;34m'https://indistreet.com/live?sortOption=startDate%3AASC'\u001b[0m\u001b[1;33m)\u001b[0m\u001b[1;33m\u001b[0m\u001b[1;33m\u001b[0m\u001b[0m\n\u001b[1;32m----> 5\u001b[1;33m \u001b[0mdriver\u001b[0m\u001b[1;33m.\u001b[0m\u001b[0mfind_element\u001b[0m\u001b[1;33m(\u001b[0m\u001b[0mBy\u001b[0m\u001b[1;33m.\u001b[0m\u001b[0mXPATH\u001b[0m\u001b[1;33m,\u001b[0m\u001b[1;34m'//*[@id=\"__next\"]/div/main/div[2]/div/div[4]/div[1]/div[1]/div/a/div[2]/p[1]'\u001b[0m\u001b[1;33m)\u001b[0m\u001b[1;33m.\u001b[0m\u001b[0mtext\u001b[0m\u001b[1;33m\u001b[0m\u001b[1;33m\u001b[0m\u001b[0m\n\u001b[0m",
      "\u001b[1;32mc:\\Users\\user\\Anaconda3\\envs\\tf_pytorch\\lib\\site-packages\\selenium\\webdriver\\remote\\webdriver.py\u001b[0m in \u001b[0;36mfind_element\u001b[1;34m(self, by, value)\u001b[0m\n\u001b[0;32m   1246\u001b[0m             \u001b[0mvalue\u001b[0m \u001b[1;33m=\u001b[0m \u001b[1;34m'[name=\"%s\"]'\u001b[0m \u001b[1;33m%\u001b[0m \u001b[0mvalue\u001b[0m\u001b[1;33m\u001b[0m\u001b[1;33m\u001b[0m\u001b[0m\n\u001b[0;32m   1247\u001b[0m \u001b[1;33m\u001b[0m\u001b[0m\n\u001b[1;32m-> 1248\u001b[1;33m         return self.execute(Command.FIND_ELEMENT, {\n\u001b[0m\u001b[0;32m   1249\u001b[0m             \u001b[1;34m'using'\u001b[0m\u001b[1;33m:\u001b[0m \u001b[0mby\u001b[0m\u001b[1;33m,\u001b[0m\u001b[1;33m\u001b[0m\u001b[1;33m\u001b[0m\u001b[0m\n\u001b[0;32m   1250\u001b[0m             'value': value})['value']\n",
      "\u001b[1;32mc:\\Users\\user\\Anaconda3\\envs\\tf_pytorch\\lib\\site-packages\\selenium\\webdriver\\remote\\webdriver.py\u001b[0m in \u001b[0;36mexecute\u001b[1;34m(self, driver_command, params)\u001b[0m\n\u001b[0;32m    423\u001b[0m         \u001b[0mresponse\u001b[0m \u001b[1;33m=\u001b[0m \u001b[0mself\u001b[0m\u001b[1;33m.\u001b[0m\u001b[0mcommand_executor\u001b[0m\u001b[1;33m.\u001b[0m\u001b[0mexecute\u001b[0m\u001b[1;33m(\u001b[0m\u001b[0mdriver_command\u001b[0m\u001b[1;33m,\u001b[0m \u001b[0mparams\u001b[0m\u001b[1;33m)\u001b[0m\u001b[1;33m\u001b[0m\u001b[1;33m\u001b[0m\u001b[0m\n\u001b[0;32m    424\u001b[0m         \u001b[1;32mif\u001b[0m \u001b[0mresponse\u001b[0m\u001b[1;33m:\u001b[0m\u001b[1;33m\u001b[0m\u001b[1;33m\u001b[0m\u001b[0m\n\u001b[1;32m--> 425\u001b[1;33m             \u001b[0mself\u001b[0m\u001b[1;33m.\u001b[0m\u001b[0merror_handler\u001b[0m\u001b[1;33m.\u001b[0m\u001b[0mcheck_response\u001b[0m\u001b[1;33m(\u001b[0m\u001b[0mresponse\u001b[0m\u001b[1;33m)\u001b[0m\u001b[1;33m\u001b[0m\u001b[1;33m\u001b[0m\u001b[0m\n\u001b[0m\u001b[0;32m    426\u001b[0m             response['value'] = self._unwrap_value(\n\u001b[0;32m    427\u001b[0m                 response.get('value', None))\n",
      "\u001b[1;32mc:\\Users\\user\\Anaconda3\\envs\\tf_pytorch\\lib\\site-packages\\selenium\\webdriver\\remote\\errorhandler.py\u001b[0m in \u001b[0;36mcheck_response\u001b[1;34m(self, response)\u001b[0m\n\u001b[0;32m    245\u001b[0m                 \u001b[0malert_text\u001b[0m \u001b[1;33m=\u001b[0m \u001b[0mvalue\u001b[0m\u001b[1;33m[\u001b[0m\u001b[1;34m'alert'\u001b[0m\u001b[1;33m]\u001b[0m\u001b[1;33m.\u001b[0m\u001b[0mget\u001b[0m\u001b[1;33m(\u001b[0m\u001b[1;34m'text'\u001b[0m\u001b[1;33m)\u001b[0m\u001b[1;33m\u001b[0m\u001b[1;33m\u001b[0m\u001b[0m\n\u001b[0;32m    246\u001b[0m             \u001b[1;32mraise\u001b[0m \u001b[0mexception_class\u001b[0m\u001b[1;33m(\u001b[0m\u001b[0mmessage\u001b[0m\u001b[1;33m,\u001b[0m \u001b[0mscreen\u001b[0m\u001b[1;33m,\u001b[0m \u001b[0mstacktrace\u001b[0m\u001b[1;33m,\u001b[0m \u001b[0malert_text\u001b[0m\u001b[1;33m)\u001b[0m  \u001b[1;31m# type: ignore[call-arg]  # mypy is not smart enough here\u001b[0m\u001b[1;33m\u001b[0m\u001b[1;33m\u001b[0m\u001b[0m\n\u001b[1;32m--> 247\u001b[1;33m         \u001b[1;32mraise\u001b[0m \u001b[0mexception_class\u001b[0m\u001b[1;33m(\u001b[0m\u001b[0mmessage\u001b[0m\u001b[1;33m,\u001b[0m \u001b[0mscreen\u001b[0m\u001b[1;33m,\u001b[0m \u001b[0mstacktrace\u001b[0m\u001b[1;33m)\u001b[0m\u001b[1;33m\u001b[0m\u001b[1;33m\u001b[0m\u001b[0m\n\u001b[0m\u001b[0;32m    248\u001b[0m \u001b[1;33m\u001b[0m\u001b[0m\n\u001b[0;32m    249\u001b[0m     \u001b[1;32mdef\u001b[0m \u001b[0m_value_or_default\u001b[0m\u001b[1;33m(\u001b[0m\u001b[0mself\u001b[0m\u001b[1;33m,\u001b[0m \u001b[0mobj\u001b[0m\u001b[1;33m:\u001b[0m \u001b[0mMapping\u001b[0m\u001b[1;33m[\u001b[0m\u001b[0m_KT\u001b[0m\u001b[1;33m,\u001b[0m \u001b[0m_VT\u001b[0m\u001b[1;33m]\u001b[0m\u001b[1;33m,\u001b[0m \u001b[0mkey\u001b[0m\u001b[1;33m:\u001b[0m \u001b[0m_KT\u001b[0m\u001b[1;33m,\u001b[0m \u001b[0mdefault\u001b[0m\u001b[1;33m:\u001b[0m \u001b[0m_VT\u001b[0m\u001b[1;33m)\u001b[0m \u001b[1;33m->\u001b[0m \u001b[0m_VT\u001b[0m\u001b[1;33m:\u001b[0m\u001b[1;33m\u001b[0m\u001b[1;33m\u001b[0m\u001b[0m\n",
      "\u001b[1;31mNoSuchElementException\u001b[0m: Message: no such element: Unable to locate element: {\"method\":\"xpath\",\"selector\":\"//*[@id=\"__next\"]/div/main/div[2]/div/div[4]/div[1]/div[1]/div/a/div[2]/p[1]\"}\n  (Session info: chrome=131.0.6778.86)\nStacktrace:\n\tGetHandleVerifier [0x003533E3+25059]\n\t(No symbol) [0x002DCDE4]\n\t(No symbol) [0x001BBEC3]\n\t(No symbol) [0x001FFD86]\n\t(No symbol) [0x001FFFCB]\n\t(No symbol) [0x0023D952]\n\t(No symbol) [0x00221F44]\n\t(No symbol) [0x0023B51E]\n\t(No symbol) [0x00221C96]\n\t(No symbol) [0x001F3FAC]\n\t(No symbol) [0x001F4F3D]\n\tGetHandleVerifier [0x00645543+3113795]\n\tGetHandleVerifier [0x0065A20A+3198986]\n\tGetHandleVerifier [0x006529E2+3168226]\n\tGetHandleVerifier [0x003F3250+680016]\n\t(No symbol) [0x002E572D]\n\t(No symbol) [0x002E29D8]\n\t(No symbol) [0x002E2B75]\n\t(No symbol) [0x002D57D0]\n\tBaseThreadInitThunk [0x7607FCC9+25]\n\tRtlGetAppContainerNamedObjectPath [0x776D809E+286]\n\tRtlGetAppContainerNamedObjectPath [0x776D806E+238]\n"
     ]
    }
   ],
   "source": [
    "# 예시 사이트에 요청을 진행하고, 예시 사이트의 첫 번째 이벤트의 제목을 가져와봅시다.\n",
    "\n",
    "driver = webdriver.Chrome(service=Service(ChromeDriverManager().install()))\n",
    "driver.get('https://indistreet.com/live?sortOption=startDate%3AASC')\n",
    "driver.find_element(By.XPATH,'//*[@id=\"__next\"]/div/main/div[2]/div/div[4]/div[1]/div[1]/div/a/div[2]/p[1]').text"
   ]
  },
  {
   "cell_type": "markdown",
   "id": "b917fc22-64a0-4f75-9b6f-0b789ecd93e7",
   "metadata": {},
   "source": [
    "오류가 발생합니다! 왜 그럴까요?\n",
    "\n",
    "이 웹 페이지는 **동적 웹페이지**이기 때문에 그렇습니다.\n",
    "이 페이지를 성공적으로 스크래핑하기 위해서는 `Wait`을 사용해야합니다.\n",
    "\n",
    "2가지 Wait 방법을 활용해서 주어진 내용을 스크래핑 해봅시다."
   ]
  },
  {
   "cell_type": "markdown",
   "id": "c498d0a0-e710-43d0-8811-03552de81c56",
   "metadata": {},
   "source": [
    "### Implicit Wait\n",
    "\n",
    "`.implicitly_wait()`을 활용해서 암시적 기다림을 적용할 수 있습니다.  \n",
    "\n",
    "주의하실 점으론, 반드시 해당 시간을 기다리는 것이 아니라, 로딩이 다 될때까지의 한계 시간의 의미를 가집니다."
   ]
  },
  {
   "cell_type": "code",
   "execution_count": 7,
   "id": "3d6e0826",
   "metadata": {},
   "outputs": [
    {
     "name": "stdout",
     "output_type": "stream",
     "text": [
      "Knock Live Rock band\n"
     ]
    }
   ],
   "source": [
    "# 10초동안 Implicit Wait을 진행하도록 해서 스크래핑이 잘 이루어지도록 수정해봅시다.\n",
    "\n",
    "with webdriver.Chrome(service=Service(ChromeDriverManager().install())) as driver:\n",
    "    driver.get('https://indistreet.com/live?sortOption=startDate%3AASC')\n",
    "    driver.implicitly_wait(10)\n",
    "    print(driver.find_element(By.XPATH,'//*[@id=\"__next\"]/div/main/div[2]/div/div[4]/div[1]/div[1]/div/a/div[2]/p[1]').text)"
   ]
  },
  {
   "cell_type": "markdown",
   "id": "cfe39310-9fce-49ec-871d-bede31356a44",
   "metadata": {},
   "source": [
    "### Explicit Wait\n",
    "`WebDriverWait()`과 두 메서드를 활용해서 명시적 기다림을 적용할 수 있습니다.\n",
    "\n",
    "`until()`: 인자의 조건이 만족될 때까지  \n",
    "`until_not()` 인자의 조건이 만족되지 않을 때까지  \n",
    "\n",
    "예를 들어, id가 `target`인 요소가 존재할 때까지 기다린 후 다음 명령을 진행합니다.\n",
    "\n",
    "```python\n",
    "element = WebDriverWait(driver, 10).until(EC.presence_of_element_located((By.ID, \"target\")))\n",
    "```\n",
    "\n",
    "이때, EC는 `expected_conditions`로, selenium에서 정의된 조건들입니다 (~가 존재하면, ...)  \n",
    "[이곳](https://www.selenium.dev/selenium/docs/api/py/webdriver_support/selenium.webdriver.support.expected_conditions.html)에서 더 자세한 정보를 확인할 수 있습니다.\n",
    "\n",
    "주어진 XPath가 등장할 때 까지 Wait을 진행해봅시다. (`EC.presence_of_element_located()` 활용)"
   ]
  },
  {
   "cell_type": "code",
   "execution_count": null,
   "id": "65226f02-237c-4e97-b176-f14d56412c64",
   "metadata": {},
   "outputs": [
    {
     "name": "stdout",
     "output_type": "stream",
     "text": [
      "Knock Live Rock band\n"
     ]
    }
   ],
   "source": [
    "# Explicit Wait를 활용해서 스크래핑이 잘 이루어지도록 코드를 작성해봅시다.\n",
    "\n",
    "\n",
    "with webdriver.Chrome(service=Service(ChromeDriverManager().install())) as driver:\n",
    "    driver.get('https://indistreet.com/live?sortOption=startDate%3AASC')\n",
    "    element = WebDriverWait(driver,10).until(EC.presence_of_element_located((By.XPATH,'//*[@id=\"__next\"]/div/main/div[2]/div/div[4]/div[1]/div[1]/div/a/div[2]/p[1]')))\n",
    "    print(element.text)"
   ]
  },
  {
   "cell_type": "markdown",
   "id": "b7d0d075-501c-4f38-a34e-f069b16fca31",
   "metadata": {
    "tags": []
   },
   "source": [
    "### 여러 공연 제목 가져오기\n",
    "\n",
    "여러 공연의 제목들을 가져오기 위해 XPath를 관찰해봅시다.  \n",
    "이 페이지의 공연 제목들에 해당하는 XPath는 다음과 같습니다:\n",
    "\n",
    "```\n",
    "//*[@id=\"__next\"]/div/main/div[2]/div/div[4]/div[1]/div[1]/div/a/div[2]/p[1]\n",
    "//*[@id=\"__next\"]/div/main/div[2]/div/div[4]/div[1]/div[2]/div/a/div[2]/p[1]\n",
    "//*[@id=\"__next\"]/div/main/div[2]/div/div[4]/div[1]/div[3]/div/a/div[2]/p[1]\n",
    "...\n",
    "```\n",
    "\n",
    "이를 일반화해서 가장 먼저 등장하는 **10개**의 이름을 추출하는 코드를 작성해봅시다."
   ]
  },
  {
   "cell_type": "code",
   "execution_count": null,
   "id": "3e70174e-0175-4b4c-9c33-ca42c3ebc59d",
   "metadata": {},
   "outputs": [
    {
     "name": "stdout",
     "output_type": "stream",
     "text": [
      "Knock Live Rock band\n",
      "Sign up\n",
      "이디어츠 1st EP 발매기념 공연\n",
      "도라페스트 4탄\n",
      "NO PASARAN! Vol.1\n",
      "2019년 5월 17일 카페 아이다호 공연 - 권유 (gwon.u)\n",
      "LIVE in NOV 2019\n",
      "LIVE in DEC 2019\n",
      "Thursday Mood\n",
      "오롯한 라이브와 함께\n"
     ]
    }
   ],
   "source": [
    "# 여러 공연의 제목을 스크래핑하는 코드를 작성해봅시다.\n",
    "with webdriver.Chrome(service=Service(ChromeDriverManager().install())) as driver:\n",
    "    driver.get('https://indistreet.com/live?sortOption=startDate%3AASC')\n",
    "    for i in range(1,11):\n",
    "        driver.implicitly_wait(10)\n",
    "        print(driver.find_element(By.XPATH,f'//*[@id=\"__next\"]/div/main/div[2]/div/div[4]/div[1]/div[{i}]/div/a/div[2]/p[1]').text)\n"
   ]
  },
  {
   "cell_type": "markdown",
   "id": "a322875b",
   "metadata": {},
   "source": []
  }
 ],
 "metadata": {
  "kernelspec": {
   "display_name": "tf_pytorch",
   "language": "python",
   "name": "python3"
  },
  "language_info": {
   "codemirror_mode": {
    "name": "ipython",
    "version": 3
   },
   "file_extension": ".py",
   "mimetype": "text/x-python",
   "name": "python",
   "nbconvert_exporter": "python",
   "pygments_lexer": "ipython3",
   "version": "3.8.5"
  }
 },
 "nbformat": 4,
 "nbformat_minor": 5
}
