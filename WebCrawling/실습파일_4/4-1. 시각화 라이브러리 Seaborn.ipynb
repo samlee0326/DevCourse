{
 "cells": [
  {
   "cell_type": "markdown",
   "id": "192778f5-b6a0-458f-9d28-2ecd531975a1",
   "metadata": {},
   "source": [
    "## 4-1. 시각화 라이브러리, Seaborn\n",
    "\n",
    "- Seaborn을 이용해서 데이터를 요약해서 보여주는 시각화를 진행해봅시다."
   ]
  },
  {
   "cell_type": "markdown",
   "id": "1269bf1e-0263-4abb-8399-dafcc4b87048",
   "metadata": {},
   "source": [
    "### Seaborn 라이브러리\n",
    "\n",
    "`seaborn`은 파이썬의 데이터 시각화 라이브러리입니다. 이를 기반으로 수려한 그래프를 그릴 수 있습니다.\n",
    "\n",
    "우선, 이를 사용하기 위해서 `pip`를 사용해 다운로드를 받아봅시다.\n",
    "\n",
    "> Tip: `%`를 이용해서 노트북(.ipynb) 환경에서 터미널 코드를 실행할 수 있습니다."
   ]
  },
  {
   "cell_type": "code",
   "execution_count": 1,
   "id": "d5707afd-9053-491c-b1aa-7840836517f5",
   "metadata": {},
   "outputs": [
    {
     "name": "stdout",
     "output_type": "stream",
     "text": [
      "Requirement already satisfied: seaborn in c:\\users\\user\\anaconda3\\envs\\tf_pytorch\\lib\\site-packages (0.11.1)\n",
      "Requirement already satisfied: numpy>=1.15 in c:\\users\\user\\anaconda3\\envs\\tf_pytorch\\lib\\site-packages (from seaborn) (1.21.2)\n",
      "Requirement already satisfied: pandas>=0.23 in c:\\users\\user\\anaconda3\\envs\\tf_pytorch\\lib\\site-packages (from seaborn) (1.2.1)\n",
      "Requirement already satisfied: matplotlib>=2.2 in c:\\users\\user\\anaconda3\\envs\\tf_pytorch\\lib\\site-packages (from seaborn) (3.3.4)\n",
      "Requirement already satisfied: scipy>=1.0 in c:\\users\\user\\anaconda3\\envs\\tf_pytorch\\lib\\site-packages (from seaborn) (1.6.2)\n",
      "Requirement already satisfied: cycler>=0.10 in c:\\users\\user\\anaconda3\\envs\\tf_pytorch\\lib\\site-packages (from matplotlib>=2.2->seaborn) (0.10.0)\n",
      "Requirement already satisfied: pillow>=6.2.0 in c:\\users\\user\\anaconda3\\envs\\tf_pytorch\\lib\\site-packages (from matplotlib>=2.2->seaborn) (8.3.1)\n",
      "Requirement already satisfied: kiwisolver>=1.0.1 in c:\\users\\user\\anaconda3\\envs\\tf_pytorch\\lib\\site-packages (from matplotlib>=2.2->seaborn) (1.3.1)\n",
      "Requirement already satisfied: python-dateutil>=2.1 in c:\\users\\user\\anaconda3\\envs\\tf_pytorch\\lib\\site-packages (from matplotlib>=2.2->seaborn) (2.8.2)\n",
      "Requirement already satisfied: pyparsing!=2.0.4,!=2.1.2,!=2.1.6,>=2.0.3 in c:\\users\\user\\anaconda3\\envs\\tf_pytorch\\lib\\site-packages (from matplotlib>=2.2->seaborn) (2.4.7)\n",
      "Requirement already satisfied: six in c:\\users\\user\\anaconda3\\envs\\tf_pytorch\\lib\\site-packages (from cycler>=0.10->matplotlib>=2.2->seaborn) (1.16.0)\n",
      "Requirement already satisfied: pytz>=2017.3 in c:\\users\\user\\anaconda3\\envs\\tf_pytorch\\lib\\site-packages (from pandas>=0.23->seaborn) (2021.1)\n",
      "Note: you may need to restart the kernel to use updated packages.\n"
     ]
    }
   ],
   "source": [
    "%pip install seaborn"
   ]
  },
  {
   "cell_type": "markdown",
   "id": "10c61c32-9a77-41d5-bbdb-8a85ff879362",
   "metadata": {},
   "source": [
    "설치를 다 진행했다면, 이제 `seaborn` 모듈을 사용할 준비가 되었습니다."
   ]
  },
  {
   "cell_type": "markdown",
   "id": "e0a274aa-bd9b-4bc6-b4e9-05b6f2b2ea18",
   "metadata": {},
   "source": [
    "### Seaborn Essentials\n",
    "\n",
    "`seaborn` 은 다양한 그래프를 그릴 수 있습니다.  \n",
    "이 링크를 통해 어떤 그래프를 그릴 수 있는지 확인할 수 있습니다.\n",
    "\n",
    "저희는 이중에서 자주 사용되는 꺾은선 그래프와 막대 그래프를 그려보면서 사용 방법을 익혀보도록 하겠습니다."
   ]
  },
  {
   "cell_type": "code",
   "execution_count": 2,
   "id": "e1e6514c",
   "metadata": {
    "tags": []
   },
   "outputs": [],
   "source": [
    "# 시각화에 필요한 라이브러리를 불러와봅시다.\n",
    "\n",
    "import seaborn as sns"
   ]
  },
  {
   "cell_type": "markdown",
   "id": "2f61d2fc-39bc-4cfd-b83d-e4fac2fbca61",
   "metadata": {
    "tags": []
   },
   "source": [
    "### 꺾은선 그래프(Line Plot)\n",
    "\n",
    "두 변수의 값에 따른 추이를 선으로 이은 그래프입니다. \n",
    "`.lineplot()`를 이용해서 이를 그릴 수 있습니다."
   ]
  },
  {
   "cell_type": "code",
   "execution_count": 3,
   "id": "4a10d2f9-70d8-4fb2-a8de-fc7f0e319b06",
   "metadata": {},
   "outputs": [
    {
     "data": {
      "text/plain": [
       "<AxesSubplot:>"
      ]
     },
     "execution_count": 3,
     "metadata": {},
     "output_type": "execute_result"
    },
    {
     "data": {
      "image/png": "[encoded data removed]",
      "text/plain": [
       "<Figure size 432x288 with 1 Axes>"
      ]
     },
     "metadata": {
      "needs_background": "light"
     },
     "output_type": "display_data"
    }
   ],
   "source": [
    "# Scatterplot을 직접 그려봅시다\n",
    "# 값 x=[1, 3, 2, 4]\n",
    "# 값 y=[0.7,0.2,0.1,0.05]\n",
    "\n",
    "sns.lineplot(x=[1, 3, 2, 4], y=[4, 3, 2, 1])"
   ]
  },
  {
   "cell_type": "markdown",
   "id": "21cda704-06c6-4de4-83a7-f77fbeec5728",
   "metadata": {
    "tags": []
   },
   "source": [
    "### 막대 그래프(Bar Plot)\n",
    "\n",
    "범주형 데이터의 \"값\"과 그 값의 크기를 직사각형으로 나타낸 그림입니다.  \n",
    "`.bar()`를 이용해서 이를 그릴 수 있습니다.  "
   ]
  },
  {
   "cell_type": "markdown",
   "id": "bd22b243-a896-451f-8c89-0423400e5923",
   "metadata": {},
   "source": [
    "지난 실습에서 다룬 마우스 실습을 통해 로그인 창에 접속하는 것에 성공했는데요,  \n",
    "여기에 이제 키보드 입력을 넣어서 로그인을 완료해봅시다."
   ]
  },
  {
   "cell_type": "code",
   "execution_count": 4,
   "id": "80b21410-4429-470b-b7ab-a632cae667e6",
   "metadata": {},
   "outputs": [
    {
     "data": {
      "text/plain": [
       "<AxesSubplot:>"
      ]
     },
     "execution_count": 4,
     "metadata": {},
     "output_type": "execute_result"
    },
    {
     "data": {
      "image/png": "[encoded data removed]",
      "text/plain": [
       "<Figure size 432x288 with 1 Axes>"
      ]
     },
     "metadata": {
      "needs_background": "light"
     },
     "output_type": "display_data"
    }
   ],
   "source": [
    "# Barplot을 직접 그려봅시다\n",
    "# 범주 x=[1,2,3,4]\n",
    "# 값 y=[0.7,0.2,0.1,0.05]\n",
    "\n",
    "sns.barplot(x=[1,2,3,4],y=[0.7,0.2,0.1,0.05])"
   ]
  },
  {
   "cell_type": "markdown",
   "id": "34336fad-d954-41c9-acd1-d368e9962e00",
   "metadata": {},
   "source": [
    "### Plot의 속성\n",
    "\n",
    "`seaborn`은 파이썬의 시각화 라이브러리 `matplotlib`을 기반으로 만들어졌습니다.  \n",
    "`matplotlib.pyplot`의 속성을 변경해서 그래프에 다양한 요소를 변경/추가할 수 있습니다."
   ]
  },
  {
   "cell_type": "code",
   "execution_count": 5,
   "id": "8be30299-529a-4b99-a628-0b2718d01c63",
   "metadata": {},
   "outputs": [],
   "source": [
    "# matplotlib.pyplot을 불러와봅시다.\n",
    "\n",
    "import matplotlib.pyplot as plt"
   ]
  },
  {
   "cell_type": "markdown",
   "id": "1bed6c22-a140-41a7-829e-aa96ff1a10f5",
   "metadata": {},
   "source": [
    "`plt.title()` : 그래프에 **제목** 을 추가합니다"
   ]
  },
  {
   "cell_type": "code",
   "execution_count": 6,
   "id": "4152177f-1271-4a97-83f3-d36a16b099be",
   "metadata": {},
   "outputs": [
    {
     "data": {
      "text/plain": [
       "Text(0.5, 1.0, 'BAR PLOT')"
      ]
     },
     "execution_count": 6,
     "metadata": {},
     "output_type": "execute_result"
    },
    {
     "data": {
      "image/png": "[encoded data removed]",
      "text/plain": [
       "<Figure size 432x288 with 1 Axes>"
      ]
     },
     "metadata": {
      "needs_background": "light"
     },
     "output_type": "display_data"
    }
   ],
   "source": [
    "# 제목을 추가해봅시다.\n",
    "sns.barplot(x=[1,2,3,4],y=[0.7,0.2,0.1,0.05])\n",
    "plt.title('BAR PLOT')"
   ]
  },
  {
   "cell_type": "markdown",
   "id": "96b481f2-d8e6-495c-b9e0-f763e9746ec1",
   "metadata": {},
   "source": [
    "`plt._label()` : 그래프의 축에 **설명** 을 추가합니다"
   ]
  },
  {
   "cell_type": "code",
   "execution_count": 7,
   "id": "38ce989e-65e3-4c43-876b-09960f840af4",
   "metadata": {},
   "outputs": [
    {
     "data": {
      "text/plain": [
       "Text(0, 0.5, 'y-label')"
      ]
     },
     "execution_count": 7,
     "metadata": {},
     "output_type": "execute_result"
    },
    {
     "data": {
      "image/png": "[encoded data removed]",
      "text/plain": [
       "<Figure size 432x288 with 1 Axes>"
      ]
     },
     "metadata": {
      "needs_background": "light"
     },
     "output_type": "display_data"
    }
   ],
   "source": [
    "# xlabel과 ylabel을 추가해봅시다.\n",
    "\n",
    "sns.barplot(x=[1,2,3,4],y=[0.7,0.2,0.1,0.05])\n",
    "plt.title('BAR PLOT')\n",
    "plt.xlabel('x-axis')\n",
    "plt.ylabel('y-label')"
   ]
  },
  {
   "cell_type": "markdown",
   "id": "7e3c7640-beab-42a7-8a19-76a8ecebad82",
   "metadata": {},
   "source": [
    "`plt._lim()` : 그래프의 축의 **범위** 를 지정합니다."
   ]
  },
  {
   "cell_type": "code",
   "execution_count": 10,
   "id": "f6095888-2ff7-49e3-9ed0-ee3146b0f53e",
   "metadata": {},
   "outputs": [
    {
     "data": {
      "text/plain": [
       "(0.0, 5.0)"
      ]
     },
     "execution_count": 10,
     "metadata": {},
     "output_type": "execute_result"
    },
    {
     "data": {
      "image/png": "[encoded data removed]",
      "text/plain": [
       "<Figure size 432x288 with 1 Axes>"
      ]
     },
     "metadata": {
      "needs_background": "light"
     },
     "output_type": "display_data"
    }
   ],
   "source": [
    "# lineplot에서 ylim을 2~3으로 제한해봅시다.\n",
    "\n",
    "sns.lineplot(x=[1, 3, 2, 4], y=[4, 3, 2, 1])\n",
    "plt.title('LINE PLOT')\n",
    "plt.xlabel('x-axis')\n",
    "plt.ylabel('y-label')\n",
    "plt.ylim(0,5)"
   ]
  },
  {
   "cell_type": "markdown",
   "id": "c214ce0b-af04-43f5-9aa7-887710fc072a",
   "metadata": {},
   "source": [
    "`plt.figure(figsize = (x, y))` : 그래프의 **크기** 를 지정합니다."
   ]
  },
  {
   "cell_type": "code",
   "execution_count": 11,
   "id": "bbbcc48c-fc4d-4f86-a38a-bd29e00074fa",
   "metadata": {},
   "outputs": [
    {
     "data": {
      "text/plain": [
       "<Figure size 1440x720 with 0 Axes>"
      ]
     },
     "execution_count": 11,
     "metadata": {},
     "output_type": "execute_result"
    },
    {
     "data": {
      "image/png": "[encoded data removed]",
      "text/plain": [
       "<Figure size 432x288 with 1 Axes>"
      ]
     },
     "metadata": {
      "needs_background": "light"
     },
     "output_type": "display_data"
    },
    {
     "data": {
      "text/plain": [
       "<Figure size 1440x720 with 0 Axes>"
      ]
     },
     "metadata": {},
     "output_type": "display_data"
    }
   ],
   "source": [
    "# 크기를 (20, 10)으로 지정해봅시다.\n",
    "# lineplot에서 ylim을 2~3으로 제한해봅시다.\n",
    "\n",
    "sns.lineplot(x=[1, 3, 2, 4], y=[4, 3, 2, 1])\n",
    "plt.title('LINE PLOT')\n",
    "plt.xlabel('x-axis')\n",
    "plt.ylabel('y-label')\n",
    "plt.ylim(0,5)\n",
    "plt.figure(figsize=(20,10))\n"
   ]
  },
  {
   "cell_type": "markdown",
   "id": "4c2f801d-6c22-49f6-91d9-199434a52e1e",
   "metadata": {},
   "source": [
    "간단한 사용법을 확인했으니, 이제 이를 활용해서 스크래핑과 함께 사용해봅시다!\n",
    "\n",
    "Tip: 이 외에도 다양한 그래프를 그릴 수 있습니다.  \n",
    "[이 링크](https://seaborn.pydata.org/examples/index.html)를 통해 더 자세히 살펴보실 수 있습니다. :)"
   ]
  }
 ],
 "metadata": {
  "kernelspec": {
   "display_name": "tf_pytorch",
   "language": "python",
   "name": "python3"
  },
  "language_info": {
   "codemirror_mode": {
    "name": "ipython",
    "version": 3
   },
   "file_extension": ".py",
   "mimetype": "text/x-python",
   "name": "python",
   "nbconvert_exporter": "python",
   "pygments_lexer": "ipython3",
   "version": "3.8.5"
  }
 },
 "nbformat": 4,
 "nbformat_minor": 5
}
