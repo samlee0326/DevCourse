{
 "cells": [
  {
   "cell_type": "markdown",
   "id": "192778f5-b6a0-458f-9d28-2ecd531975a1",
   "metadata": {},
   "source": [
    "## 4-2. 스크래핑 결과 시각화하기 I - 기상청 날씨 정보 조회\n",
    "\n",
    "- Selenium과 Seaborn을 이용해서 날씨 정보를 가져온 후 Lineplot을 그려봅시다."
   ]
  },
  {
   "cell_type": "markdown",
   "id": "21cda704-06c6-4de4-83a7-f77fbeec5728",
   "metadata": {},
   "source": [
    "### Target: 기상청 날씨 스크래핑하기\n",
    "\n",
    "다음 사이트에 Selenium을 이용해서 날씨 정보를 가져와봅시다. : https://www.weather.go.kr/w/weather/forecast/short-term.do"
   ]
  },
  {
   "cell_type": "code",
   "execution_count": 32,
   "id": "e1e6514c",
   "metadata": {},
   "outputs": [],
   "source": [
    "# 스크래핑에 필요한 라이브러리를 불러와봅시다.\n",
    "\n",
    "from selenium import webdriver\n",
    "from selenium.webdriver import ActionChains\n",
    "from webdriver_manager.chrome import ChromeDriverManager\n",
    "from selenium.webdriver.common.actions.action_builder import ActionBuilder\n",
    "from selenium.webdriver import Keys, ActionChains\n",
    "from selenium.webdriver.chrome.service import Service\n",
    "from selenium.webdriver.common.by import By\n",
    "import seaborn as sns\n",
    "import matplotlib.pyplot as plt"
   ]
  },
  {
   "cell_type": "markdown",
   "id": "bd22b243-a896-451f-8c89-0423400e5923",
   "metadata": {},
   "source": [
    "지난 실습에서 다룬 마우스 실습을 통해 로그인 창에 접속하는 것에 성공했는데요,  \n",
    "여기에 이제 키보드 입력을 넣어서 로그인을 완료해봅시다."
   ]
  },
  {
   "cell_type": "code",
   "execution_count": 16,
   "id": "80b21410-4429-470b-b7ab-a632cae667e6",
   "metadata": {},
   "outputs": [
    {
     "name": "stdout",
     "output_type": "stream",
     "text": [
      "[13, 12, 12, 11, 11, 10, 10, 10, 10, 11, 11, 11, 10, 9, 9, 9, 10, 9, 9, 8, 8, 7, 6, 5, 5]\n"
     ]
    }
   ],
   "source": [
    "# driver를 이용해 기상청 날씨 데이터를 가져와봅시다.\n",
    "\n",
    "driver =  webdriver.Chrome(service=Service(ChromeDriverManager().install()))\n",
    "driver.maximize_window()\n",
    "driver.get('https://www.weather.go.kr/w/weather/forecast/short-term.do')\n",
    "driver.implicitly_wait(10)\n",
    "#x_path = '//*[@id=\"digital-forecast\"]/div[1]/div[5]/div[2]/div[1]/div[6]'\n",
    "#온도\n",
    "data = driver.find_element(By.ID,'my-tchart')\n",
    "data_tmp_list = list(map(int,data.text.replace('℃','').split('\\n')))\n",
    "print(data_tmp_list)\n"
   ]
  },
  {
   "cell_type": "code",
   "execution_count": 26,
   "id": "5a1765db",
   "metadata": {},
   "outputs": [
    {
     "data": {
      "text/plain": [
       "25"
      ]
     },
     "execution_count": 26,
     "metadata": {},
     "output_type": "execute_result"
    }
   ],
   "source": [
    "len(data_tmp_list)"
   ]
  },
  {
   "cell_type": "code",
   "execution_count": 38,
   "id": "8a71cd94",
   "metadata": {},
   "outputs": [
    {
     "data": {
      "text/plain": [
       "<AxesSubplot:title={'center':'온도'}>"
      ]
     },
     "execution_count": 38,
     "metadata": {},
     "output_type": "execute_result"
    },
    {
     "data": {
      "image/png": "[encoded data removed]",
      "text/plain": [
       "<Figure size 432x288 with 1 Axes>"
      ]
     },
     "metadata": {
      "needs_background": "light"
     },
     "output_type": "display_data"
    }
   ],
   "source": [
    "plt.ylim(min(data_tmp_list)-1,max(data_tmp_list),0.5)\n",
    "plt.title('온도')\n",
    "plt.rcParams['font.family'] ='Nanum Gothic'\n",
    "plt.rcParams['axes.unicode_minus'] =False\n",
    "\n",
    "sns.lineplot(\n",
    "    x = [i for i in range(len(data_tmp_list))],\n",
    "    y = data_tmp_list\n",
    ")\n"
   ]
  },
  {
   "cell_type": "code",
   "execution_count": null,
   "id": "16959d36",
   "metadata": {},
   "outputs": [
    {
     "name": "stdout",
     "output_type": "stream",
     "text": [
      "i=1\n",
      "['01시', '흐림', '8℃', '-', '-', '30%', '남동풍', '5', '80%']\n",
      "====================\n",
      "i=2\n",
      "['02시', '비', '8℃', '1', '-', '60%', '남동풍', '5', '80%']\n",
      "====================\n",
      "i=3\n",
      "['03시', '비', '7℃', '1', '-', '60%', '남동풍', '6', '80%']\n",
      "====================\n",
      "i=4\n",
      "['04시', '비', '11℃', '1', '-', '63%', '남동풍', '5', '85%']\n",
      "====================\n",
      "i=5\n",
      "['05시', '비', '11℃', '1', '-', '67%', '남풍', '4', '85%']\n",
      "====================\n",
      "i=6\n",
      "['06시', '비', '11℃', '3', '-', '66%', '남풍', '4', '85%']\n",
      "====================\n",
      "i=7\n",
      "['07시', '비', '8℃', '2', '-', '60%', '서풍', '4', '80%']\n",
      "====================\n",
      "i=8\n",
      "['08시', '비', '8℃', '~1', '-', '60%', '서풍', '2', '80%']\n",
      "====================\n",
      "i=9\n",
      "['09시', '비', '7℃', '~1', '-', '60%', '서풍', '4', '75%']\n",
      "====================\n",
      "i=10\n",
      "['10시', '비', '7℃', '~1', '-', '60%', '서풍', '4', '70%']\n",
      "====================\n",
      "i=11\n",
      "['11시', '비', '8℃', '~1', '-', '60%', '서풍', '5', '60%']\n",
      "====================\n",
      "i=12\n",
      "['12시', '구름 많음', '6℃', '-', '-', '20%', '서풍', '6', '60%']\n",
      "====================\n",
      "i=13\n",
      "['13시', '흐림', '6℃', '-', '-', '30%', '서풍', '5', '60%']\n",
      "====================\n",
      "i=14\n",
      "['14시', '흐림', '5℃', '-', '-', '30%', '서풍', '5', '60%']\n",
      "====================\n",
      "i=15\n",
      "['15시', '구름 많음', '6℃', '-', '-', '20%', '서풍', '3', '60%']\n",
      "====================\n",
      "i=16\n",
      "['16시', '구름 많음', '5℃', '-', '-', '20%', '서풍', '3', '60%']\n",
      "====================\n",
      "i=17\n",
      "['17시', '흐림', '4℃', '-', '-', '30%', '서풍', '2', '60%']\n",
      "====================\n",
      "i=18\n",
      "['18시', '흐림', '4℃', '-', '-', '30%', '서풍', '2', '60%']\n",
      "====================\n",
      "i=19\n",
      "['19시', '흐림', '4℃', '-', '-', '30%', '북서풍', '1', '65%']\n",
      "====================\n",
      "i=20\n",
      "['']\n",
      "====================\n",
      "i=21\n",
      "['']\n",
      "====================\n",
      "i=22\n",
      "['']\n",
      "====================\n",
      "i=23\n",
      "['']\n",
      "====================\n",
      "i=24\n",
      "['']\n",
      "====================\n"
     ]
    }
   ],
   "source": [
    "#시간\n",
    "# driver =  webdriver.Chrome(service=Service(ChromeDriverManager().install()))\n",
    "# driver.maximize_window()\n",
    "# driver.get('https://www.weather.go.kr/w/weather/forecast/short-term.do')\n",
    "# #driver.implicitly_wait(10)\n",
    "# dates = []\n",
    "# for i in range(1,len(data_tmp_list)):\n",
    "#     driver.implicitly_wait(5)\n",
    "#     x_path = f'//*[@id=\"digital-forecast\"]/div[1]/div[5]/div[2]/div[1]/div[2]/div/div[2]/ul[{str(i)}]'\n",
    "#     data = driver.find_element(By.XPATH,x_path)\n",
    "#     print(f'i={i}')\n",
    "#     print(data.text.split('\\n'))\n",
    "#     dates.append(data.text.split('\\n')[0])\n",
    "#     print('='*20)"
   ]
  },
  {
   "cell_type": "code",
   "execution_count": null,
   "id": "b13f9d03",
   "metadata": {},
   "outputs": [
    {
     "data": {
      "text/plain": [
       "[]"
      ]
     },
     "execution_count": 18,
     "metadata": {},
     "output_type": "execute_result"
    }
   ],
   "source": [
    "'//*[@id=\"digital-forecast\"]/div[1]/div[5]/div[2]/div[1]/div[2]/div/div[2]/ul[17]'\n",
    "'//*[@id=\"digital-forecast\"]/div[1]/div[5]/div[2]/div[1]/div[2]/div/div[2]/ul[24]'\n",
    "'//*[@id=\"digital-forecast\"]/div[1]/div[5]/div[2]/div[1]/div[4]/div/div[2]/ul[24]'"
   ]
  },
  {
   "cell_type": "markdown",
   "id": "f1aa36a0-b2f1-4926-8cff-efcedcfe71f7",
   "metadata": {},
   "source": [
    "**꺾은선 그래프(Line Plot)** 을 이용해 앞으로의 기온의 추이를 나타내봅시다.\n"
   ]
  },
  {
   "cell_type": "code",
   "execution_count": null,
   "id": "d4725a1c-07e9-4e06-aa1f-bde1d8d006f5",
   "metadata": {},
   "outputs": [],
   "source": [
    "# 받아온 데이터를 통해 꺾은선 그래프를 그려봅시다.\n",
    "# x = Elapsed Time(0~len(temperatures)\n",
    "# y = temperatures\n",
    "\n"
   ]
  },
  {
   "cell_type": "code",
   "execution_count": null,
   "id": "bd6ac8f8-d0fd-4060-89d7-79b26ee0e6c8",
   "metadata": {},
   "outputs": [],
   "source": [
    "# 받아온 데이터를 통해 꺾은선 그래프를 그려봅시다.\n",
    "\n"
   ]
  }
 ],
 "metadata": {
  "kernelspec": {
   "display_name": "tf_pytorch",
   "language": "python",
   "name": "python3"
  },
  "language_info": {
   "codemirror_mode": {
    "name": "ipython",
    "version": 3
   },
   "file_extension": ".py",
   "mimetype": "text/x-python",
   "name": "python",
   "nbconvert_exporter": "python",
   "pygments_lexer": "ipython3",
   "version": "3.8.5"
  }
 },
 "nbformat": 4,
 "nbformat_minor": 5
}
