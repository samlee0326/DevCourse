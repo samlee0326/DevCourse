{
 "cells": [
  {
   "cell_type": "code",
   "execution_count": 2,
   "metadata": {},
   "outputs": [],
   "source": [
    "import os\n",
    "import pandas as pd\n",
    "from tqdm import tqdm\n",
    "import glob\n",
    "from datetime import datetime"
   ]
  },
  {
   "cell_type": "code",
   "execution_count": 3,
   "metadata": {},
   "outputs": [],
   "source": [
    "# !pip install pyarrow"
   ]
  },
  {
   "cell_type": "code",
   "execution_count": 6,
   "metadata": {},
   "outputs": [],
   "source": [
    "PARENT_DIR = os.path.dirname(os.getcwd())\n",
    "# CSV FILE\n",
    "CSV_FOLDER = os.path.join(PARENT_DIR,'csv_files')\n",
    "\n",
    "# PQ FILE\n",
    "PQ_FOLDER = os.path.join(PARENT_DIR,'pq_files')\n",
    "\n",
    "# XLSX FILE\n",
    "XLSX_FOLDER = os.path.join(PARENT_DIR,'xlsx_files')\n",
    "\n",
    "os.makedirs(CSV_FOLDER,exist_ok=True) #csv파일 저장 폴더 생성\n",
    "os.makedirs(PQ_FOLDER,exist_ok=True) #csv파일 저장 폴더 생성"
   ]
  },
  {
   "cell_type": "code",
   "execution_count": 12,
   "metadata": {},
   "outputs": [
    {
     "name": "stderr",
     "output_type": "stream",
     "text": [
      "  0%|          | 0/262 [00:00<?, ?it/s]"
     ]
    },
    {
     "name": "stdout",
     "output_type": "stream",
     "text": [
      "c:\\Users\\samle\\Documents\\DevCourse\\xlsx_files\\KOBIS_일별_박스오피스_2024-12-28 (1).xlsx\n"
     ]
    },
    {
     "name": "stderr",
     "output_type": "stream",
     "text": [
      "\n"
     ]
    }
   ],
   "source": [
    "XLSX_FOLDER = os.path.join(PARENT_DIR,'xlsx_files')\n",
    "excel_files = glob.glob(XLSX_FOLDER+'\\\\*.xlsx')\n",
    "for file in tqdm(excel_files):\n",
    "    print(file)\n",
    "    break"
   ]
  },
  {
   "cell_type": "code",
   "execution_count": 24,
   "metadata": {},
   "outputs": [
    {
     "data": {
      "text/html": [
       "<div>\n",
       "<style scoped>\n",
       "    .dataframe tbody tr th:only-of-type {\n",
       "        vertical-align: middle;\n",
       "    }\n",
       "\n",
       "    .dataframe tbody tr th {\n",
       "        vertical-align: top;\n",
       "    }\n",
       "\n",
       "    .dataframe thead th {\n",
       "        text-align: right;\n",
       "    }\n",
       "</style>\n",
       "<table border=\"1\" class=\"dataframe\">\n",
       "  <thead>\n",
       "    <tr style=\"text-align: right;\">\n",
       "      <th></th>\n",
       "      <th>cur_date</th>\n",
       "    </tr>\n",
       "  </thead>\n",
       "  <tbody>\n",
       "    <tr>\n",
       "      <th>0</th>\n",
       "      <td>2024-12-16</td>\n",
       "    </tr>\n",
       "    <tr>\n",
       "      <th>1</th>\n",
       "      <td>2024-12-16</td>\n",
       "    </tr>\n",
       "    <tr>\n",
       "      <th>2</th>\n",
       "      <td>2024-12-16</td>\n",
       "    </tr>\n",
       "    <tr>\n",
       "      <th>3</th>\n",
       "      <td>2024-12-16</td>\n",
       "    </tr>\n",
       "    <tr>\n",
       "      <th>4</th>\n",
       "      <td>2024-12-16</td>\n",
       "    </tr>\n",
       "    <tr>\n",
       "      <th>...</th>\n",
       "      <td>...</td>\n",
       "    </tr>\n",
       "    <tr>\n",
       "      <th>120</th>\n",
       "      <td>2024-12-16</td>\n",
       "    </tr>\n",
       "    <tr>\n",
       "      <th>121</th>\n",
       "      <td>2024-12-16</td>\n",
       "    </tr>\n",
       "    <tr>\n",
       "      <th>122</th>\n",
       "      <td>2024-12-16</td>\n",
       "    </tr>\n",
       "    <tr>\n",
       "      <th>123</th>\n",
       "      <td>2024-12-16</td>\n",
       "    </tr>\n",
       "    <tr>\n",
       "      <th>124</th>\n",
       "      <td>2024-12-16</td>\n",
       "    </tr>\n",
       "  </tbody>\n",
       "</table>\n",
       "<p>125 rows × 1 columns</p>\n",
       "</div>"
      ],
      "text/plain": [
       "      cur_date\n",
       "0   2024-12-16\n",
       "1   2024-12-16\n",
       "2   2024-12-16\n",
       "3   2024-12-16\n",
       "4   2024-12-16\n",
       "..         ...\n",
       "120 2024-12-16\n",
       "121 2024-12-16\n",
       "122 2024-12-16\n",
       "123 2024-12-16\n",
       "124 2024-12-16\n",
       "\n",
       "[125 rows x 1 columns]"
      ]
     },
     "execution_count": 24,
     "metadata": {},
     "output_type": "execute_result"
    }
   ],
   "source": [
    "#string에서 Datetime 추출\n",
    "date_str_dt = datetime.strptime(date_str,\"%Y%m%d\")\n",
    "date_str_dt\n",
    "df_curdate2 = pd.DataFrame({'cur_date':[date_str_dt]*len(data)})\n",
    "df_curdate2"
   ]
  },
  {
   "cell_type": "code",
   "execution_count": 13,
   "metadata": {},
   "outputs": [
    {
     "name": "stderr",
     "output_type": "stream",
     "text": [
      "100%|██████████| 262/262 [02:05<00:00,  2.08it/s]\n"
     ]
    }
   ],
   "source": [
    "excel_files = glob.glob(os.path.join(XLSX_FOLDER,'*.xlsx')) #xlsx 파일 리스트\n",
    "\n",
    "for file in tqdm(excel_files):\n",
    "    df = pd.read_excel(file, skiprows=4, engine=\"openpyxl\")\n",
    "    #순위가 포함된 행들찾기\n",
    "    rank_rows = df[df.apply(lambda row: row.astype(str).str.contains('순위').any(), axis=1)].index\n",
    "    #합계가 포함된 행들 찾기기\n",
    "    gross_total_rows = df[df.apply(lambda row: row.astype(str).str.contains('합계').any(), axis=1)].index\n",
    "    #DataFrame에 사용할 컬럼명 추출\n",
    "    columns = df.iloc[rank_rows[0]].values.tolist()\n",
    "    new_cols = []\n",
    "\n",
    "    #향후 SQL 데이터 처리를 용이하기 위해 컬럼명 변경\n",
    "    for col in columns:\n",
    "        col = col.strip() #Trailing space 삭제\n",
    "        if '(' in col:\n",
    "            col = col[:-1] # ')' 제거\n",
    "            new_col = col.replace('(','_')\n",
    "            new_cols.append(new_col)\n",
    "        else:\n",
    "            new_cols.append(col)\n",
    "    #엑셀파일에서서 일별 데이터 추출 및 저장 (CSV 및 parquet으로 저장)\n",
    "    for i, rank_row in enumerate(rank_rows):\n",
    "        date = df.iloc[rank_row-1][0][1:-3]# 날짜 정보만 추출출\n",
    "        dates = date.split()\n",
    "        date_str = ''\n",
    "        for date in dates:\n",
    "            date_str += date[:-1]#년,월,일 제거후 YYYYMMDD형식으로 변경경\n",
    "        data = df.iloc[rank_row+2:gross_total_rows[i],:].values\n",
    "        df_daily = pd.DataFrame(data,columns=new_cols)\n",
    "        df_daily.columns.values[4] = '매출액_점유율' #2번째'매출액'에서 '매출액_점유율'로 변경\n",
    "        df_daily.columns.values[5] = '매출액증감_전일대비' # 매출액증감에서 '매출액증감_전일대비'로 변경\n",
    "        df_vote_date = pd.DataFrame({'voting_date':[date_str]*len(data)})#조회 일자 column 생성\n",
    "        df_vote_date['voting_date'] = pd.to_datetime(df_vote_date['voting_date'], format=\"%Y-%m-%d\")# sring에서 datetime으로 변경\n",
    "        df_final = pd.concat([df_vote_date,df_daily],axis=1)# 조회일자 합치기\n",
    "        df_final['영화명']=df_final['영화명'].apply(lambda x: str(x) if isinstance(x,(int,float)) else x) #영화명이 숫자로만 이루어져 있을 경우 string으로 전환\n",
    "        df_final.to_parquet(os.path.join(PQ_FOLDER,f'{date_str}.parquet'),engine='pyarrow',compression='snappy') #추출한 날짜를 파일명으로 하고 Parquet으로 저장\n",
    "        df_final.to_csv(os.path.join(CSV_FOLDER,f'{date_str}.csv'),header=True,index=False,encoding='utf-8-sig')#추출한 날짜를 파일명으로 하고 한글깨짐 방지를 위해 utf-8-sig로 encoding후 CSV로 저장\n"
   ]
  }
 ],
 "metadata": {
  "kernelspec": {
   "display_name": "base",
   "language": "python",
   "name": "python3"
  },
  "language_info": {
   "codemirror_mode": {
    "name": "ipython",
    "version": 3
   },
   "file_extension": ".py",
   "mimetype": "text/x-python",
   "name": "python",
   "nbconvert_exporter": "python",
   "pygments_lexer": "ipython3",
   "version": "3.10.9"
  }
 },
 "nbformat": 4,
 "nbformat_minor": 2
}
