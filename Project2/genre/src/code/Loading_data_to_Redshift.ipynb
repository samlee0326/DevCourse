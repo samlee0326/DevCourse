{
  "cells": [
    {
      "cell_type": "code",
      "execution_count": 1,
      "metadata": {
        "id": "-8kRYXDBzo4a"
      },
      "outputs": [],
      "source": [
        "import configparser\n",
        "import psycopg2\n",
        "from sql_queries import create_schema_queries,create_table_queries,staging_table_queries\n",
        "import os"
      ]
    },
    {
      "cell_type": "code",
      "execution_count": 2,
      "metadata": {
        "id": "yWZYci3Qzrc3"
      },
      "outputs": [],
      "source": [
        "def create_schema(cur,conn):\n",
        "    for query in create_schema_queries:\n",
        "        cur.execute(query)\n",
        "        conn.commit()\n",
        "\n",
        "def create_tables(cur,conn):\n",
        "    for query in create_table_queries:\n",
        "        cur.execute(query)\n",
        "        conn.commit()\n",
        "\n",
        "def stage_tables(cur,conn):\n",
        "    for query in staging_table_queries:\n",
        "        cur.execute(query)\n",
        "        conn.commit()\n",
        "\n",
        "def rs_load():\n",
        "\n",
        "    #현재 파일의 상위 폴더 위치\n",
        "    PARENT_DIR = os.path.dirname(os.getcwd())\n",
        "\n",
        "    config = configparser.ConfigParser()\n",
        "    config.read(os.path.join(PARENT_DIR,'config','conf.cfg'))\n",
        "\n",
        "    conn = psycopg2.connect(\"host={} dbname={} user={} password={} port={}\".format(*config['SERVERLESS'].values()))\n",
        "    print('Connected')\n",
        "\n",
        "    cur = conn.cursor()\n",
        "    print()\n",
        "    print('Cursor Created')\n",
        "    print()\n",
        "\n",
        "    print('Creating Schema...')\n",
        "    create_schema(cur, conn)\n",
        "    print()\n",
        "\n",
        "    print('Creating tables')\n",
        "    create_tables(cur, conn)\n",
        "    print()\n",
        "\n",
        "    print('staging tables')\n",
        "    stage_tables(cur,conn)\n",
        "\n",
        "    conn.close()\n",
        "\n",
        "    print()\n",
        "    print('Connection Closed')\n"
      ]
    },
    {
      "cell_type": "code",
      "execution_count": 3,
      "metadata": {
        "colab": {
          "base_uri": "https://localhost:8080/"
        },
        "id": "BGvNGtP60EDL",
        "outputId": "725e29c7-bc0c-42d5-f4a1-db7d105e968c"
      },
      "outputs": [
        {
          "name": "stdout",
          "output_type": "stream",
          "text": [
            "Connected\n",
            "\n",
            "Cursor Created\n",
            "\n",
            "Creating Schema...\n",
            "\n",
            "Creating tables\n",
            "\n",
            "staging tables\n",
            "\n",
            "Connection Closed\n"
          ]
        }
      ],
      "source": [
        "rs_load()"
      ]
    }
  ],
  "metadata": {
    "colab": {
      "provenance": []
    },
    "kernelspec": {
      "display_name": "Python 3",
      "name": "python3"
    },
    "language_info": {
      "name": "python"
    }
  },
  "nbformat": 4,
  "nbformat_minor": 0
}
